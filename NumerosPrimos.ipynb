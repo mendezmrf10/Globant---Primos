{
  "nbformat": 4,
  "nbformat_minor": 0,
  "metadata": {
    "colab": {
      "provenance": [],
      "authorship_tag": "ABX9TyOX3rUiVJFGPiNW/1It4MXa",
      "include_colab_link": true
    },
    "kernelspec": {
      "name": "python3",
      "display_name": "Python 3"
    },
    "language_info": {
      "name": "python"
    }
  },
  "cells": [
    {
      "cell_type": "markdown",
      "metadata": {
        "id": "view-in-github",
        "colab_type": "text"
      },
      "source": [
        "<a href=\"https://colab.research.google.com/github/mendezmrf10/Globant---Primos/blob/main/NumerosPrimos.ipynb\" target=\"_parent\"><img src=\"https://colab.research.google.com/assets/colab-badge.svg\" alt=\"Open In Colab\"/></a>"
      ]
    },
    {
      "cell_type": "code",
      "source": [
        "arreglo=[]\n",
        "numero=int(input(\"Ingrese el numero hasta el que quiere llegar \"))\n",
        "limite= numero**0.5\n",
        "limite= int(limite)\n",
        "for i in range (0,numero+1,1):      # Se crea el arreglo que almacena todos los datos\n",
        "  arreglo.append(i)\n",
        "\n",
        "\n",
        "for i in range (2,limite,1):        # Este ciclo elimina los numeros que no son primos\n",
        "  respuesta=i+i\n",
        "  while respuesta<=numero:\n",
        "    arreglo[respuesta]=0\n",
        "    respuesta+=i\n",
        "\n",
        "\n",
        "for i in range (2,numero+1,1):      # Ciclo para imprimir en pantalla los numeros primos\n",
        "  if arreglo[i]!=0:\n",
        "    print(arreglo[i])\n",
        "\n",
        "\n"
      ],
      "metadata": {
        "colab": {
          "base_uri": "https://localhost:8080/"
        },
        "id": "a4iPxhswClnv",
        "outputId": "76573957-05cb-4ee3-b7bf-0f256fcc5335"
      },
      "execution_count": 3,
      "outputs": [
        {
          "output_type": "stream",
          "name": "stdout",
          "text": [
            "Ingrese el numero hasta el que quiere llegar 200\n",
            "\n",
            "2\n",
            "3\n",
            "5\n",
            "7\n",
            "11\n",
            "13\n",
            "17\n",
            "19\n",
            "23\n",
            "29\n",
            "31\n",
            "37\n",
            "41\n",
            "43\n",
            "47\n",
            "53\n",
            "59\n",
            "61\n",
            "67\n",
            "71\n",
            "73\n",
            "79\n",
            "83\n",
            "89\n",
            "97\n",
            "101\n",
            "103\n",
            "107\n",
            "109\n",
            "113\n",
            "127\n",
            "131\n",
            "137\n",
            "139\n",
            "149\n",
            "151\n",
            "157\n",
            "163\n",
            "167\n",
            "173\n",
            "179\n",
            "181\n",
            "191\n",
            "193\n",
            "197\n",
            "199\n"
          ]
        }
      ]
    }
  ]
}